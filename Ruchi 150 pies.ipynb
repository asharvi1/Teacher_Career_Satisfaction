{
 "cells": [
  {
   "cell_type": "code",
   "execution_count": 1,
   "metadata": {},
   "outputs": [
    {
     "name": "stderr",
     "output_type": "stream",
     "text": [
      "/anaconda3/lib/python3.6/importlib/_bootstrap.py:219: RuntimeWarning: numpy.dtype size changed, may indicate binary incompatibility. Expected 96, got 88\n",
      "  return f(*args, **kwds)\n"
     ]
    }
   ],
   "source": [
    "import pandas as pd\n",
    "import numpy as np\n",
    "import matplotlib.pyplot as plt"
   ]
  },
  {
   "cell_type": "code",
   "execution_count": 4,
   "metadata": {},
   "outputs": [],
   "source": [
    "dataset = pd.read_excel('Ruchi 150.xlsx', sheet_name = 'Ruchi Pubs')"
   ]
  },
  {
   "cell_type": "code",
   "execution_count": 5,
   "metadata": {},
   "outputs": [
    {
     "data": {
      "text/html": [
       "<div>\n",
       "<style scoped>\n",
       "    .dataframe tbody tr th:only-of-type {\n",
       "        vertical-align: middle;\n",
       "    }\n",
       "\n",
       "    .dataframe tbody tr th {\n",
       "        vertical-align: top;\n",
       "    }\n",
       "\n",
       "    .dataframe thead th {\n",
       "        text-align: right;\n",
       "    }\n",
       "</style>\n",
       "<table border=\"1\" class=\"dataframe\">\n",
       "  <thead>\n",
       "    <tr style=\"text-align: right;\">\n",
       "      <th></th>\n",
       "      <th>Gender</th>\n",
       "      <th>Age</th>\n",
       "      <th>Education</th>\n",
       "      <th>Workload</th>\n",
       "      <th>J.ISSN.N</th>\n",
       "      <th>J.ISSN.I</th>\n",
       "      <th>OJ.NOISSN</th>\n",
       "      <th>ISBN.N</th>\n",
       "      <th>ISBN.I</th>\n",
       "      <th>TBP.N</th>\n",
       "      <th>TBP.I</th>\n",
       "      <th>No. Publications</th>\n",
       "    </tr>\n",
       "  </thead>\n",
       "  <tbody>\n",
       "    <tr>\n",
       "      <th>0</th>\n",
       "      <td>Male</td>\n",
       "      <td>Group 2</td>\n",
       "      <td>Degree</td>\n",
       "      <td>18</td>\n",
       "      <td>0</td>\n",
       "      <td>1.0</td>\n",
       "      <td>0</td>\n",
       "      <td>0</td>\n",
       "      <td>0</td>\n",
       "      <td>0</td>\n",
       "      <td>0</td>\n",
       "      <td>1</td>\n",
       "    </tr>\n",
       "    <tr>\n",
       "      <th>1</th>\n",
       "      <td>Female</td>\n",
       "      <td>Group 3</td>\n",
       "      <td>Ph.D</td>\n",
       "      <td>18</td>\n",
       "      <td>0</td>\n",
       "      <td>8.0</td>\n",
       "      <td>2</td>\n",
       "      <td>2</td>\n",
       "      <td>0</td>\n",
       "      <td>0</td>\n",
       "      <td>0</td>\n",
       "      <td>12</td>\n",
       "    </tr>\n",
       "    <tr>\n",
       "      <th>2</th>\n",
       "      <td>Male</td>\n",
       "      <td>Group 2</td>\n",
       "      <td>PG</td>\n",
       "      <td>15</td>\n",
       "      <td>4</td>\n",
       "      <td>1.0</td>\n",
       "      <td>0</td>\n",
       "      <td>0</td>\n",
       "      <td>0</td>\n",
       "      <td>0</td>\n",
       "      <td>0</td>\n",
       "      <td>5</td>\n",
       "    </tr>\n",
       "    <tr>\n",
       "      <th>3</th>\n",
       "      <td>Male</td>\n",
       "      <td>Group 1</td>\n",
       "      <td>UGC-NET9</td>\n",
       "      <td>18</td>\n",
       "      <td>0</td>\n",
       "      <td>0.0</td>\n",
       "      <td>0</td>\n",
       "      <td>0</td>\n",
       "      <td>1</td>\n",
       "      <td>0</td>\n",
       "      <td>0</td>\n",
       "      <td>1</td>\n",
       "    </tr>\n",
       "    <tr>\n",
       "      <th>4</th>\n",
       "      <td>Male</td>\n",
       "      <td>Group 3</td>\n",
       "      <td>Ph.D</td>\n",
       "      <td>18</td>\n",
       "      <td>0</td>\n",
       "      <td>0.0</td>\n",
       "      <td>0</td>\n",
       "      <td>0</td>\n",
       "      <td>0</td>\n",
       "      <td>0</td>\n",
       "      <td>0</td>\n",
       "      <td>0</td>\n",
       "    </tr>\n",
       "  </tbody>\n",
       "</table>\n",
       "</div>"
      ],
      "text/plain": [
       "   Gender      Age Education  Workload  J.ISSN.N  J.ISSN.I  OJ.NOISSN  ISBN.N  \\\n",
       "0    Male  Group 2    Degree        18         0       1.0          0       0   \n",
       "1  Female  Group 3      Ph.D        18         0       8.0          2       2   \n",
       "2    Male  Group 2        PG        15         4       1.0          0       0   \n",
       "3    Male  Group 1  UGC-NET9        18         0       0.0          0       0   \n",
       "4    Male  Group 3      Ph.D        18         0       0.0          0       0   \n",
       "\n",
       "   ISBN.I  TBP.N  TBP.I  No. Publications  \n",
       "0       0      0      0                 1  \n",
       "1       0      0      0                12  \n",
       "2       0      0      0                 5  \n",
       "3       1      0      0                 1  \n",
       "4       0      0      0                 0  "
      ]
     },
     "execution_count": 5,
     "metadata": {},
     "output_type": "execute_result"
    }
   ],
   "source": [
    "dataset.head()"
   ]
  },
  {
   "cell_type": "code",
   "execution_count": 14,
   "metadata": {},
   "outputs": [],
   "source": [
    "group1_pubs = [dataset.iloc[i, 11] for i in range(len(dataset)) if dataset.iloc[i, 1] == 'Group 1']\n",
    "group2_pubs = [dataset.iloc[i, 11] for i in range(len(dataset)) if dataset.iloc[i, 1] == 'Group 2']\n",
    "group3_pubs = [dataset.iloc[i, 11] for i in range(len(dataset)) if dataset.iloc[i, 1] == 'Group 3']\n",
    "group4_pubs = [dataset.iloc[i, 11] for i in range(len(dataset)) if dataset.iloc[i, 1] == 'Group 4']"
   ]
  },
  {
   "cell_type": "code",
   "execution_count": 11,
   "metadata": {},
   "outputs": [],
   "source": [
    "group1=[1 for i in range(len(dataset)) if dataset.iloc[i, 1] == 'Group 1']\n",
    "group2=[1 for i in range(len(dataset)) if dataset.iloc[i, 1] == 'Group 2']\n",
    "group3=[1 for i in range(len(dataset)) if dataset.iloc[i, 1] == 'Group 3']\n",
    "group4=[1 for i in range(len(dataset)) if dataset.iloc[i, 1] == 'Group 4']"
   ]
  },
  {
   "cell_type": "code",
   "execution_count": 12,
   "metadata": {},
   "outputs": [
    {
     "name": "stdout",
     "output_type": "stream",
     "text": [
      "72\n",
      "39\n",
      "36\n",
      "3\n"
     ]
    }
   ],
   "source": [
    "print(sum(group1))\n",
    "print(sum(group2))\n",
    "print(sum(group3))\n",
    "print(sum(group4))"
   ]
  },
  {
   "cell_type": "code",
   "execution_count": 15,
   "metadata": {},
   "outputs": [
    {
     "name": "stdout",
     "output_type": "stream",
     "text": [
      "2.6666666666666665\n",
      "4.743589743589744\n",
      "3.5277777777777777\n",
      "1.0\n"
     ]
    }
   ],
   "source": [
    "print(sum(group1_pubs)/72)\n",
    "print(sum(group2_pubs)/39)\n",
    "print(sum(group3_pubs)/36)\n",
    "print(sum(group4_pubs)/3)"
   ]
  },
  {
   "cell_type": "code",
   "execution_count": 20,
   "metadata": {},
   "outputs": [],
   "source": [
    "groups_pubs = ['Group-1: 3', 'Group-2: 5', 'Group-3: 4', 'Group-4: 1']\n",
    "no_pubs = [round(sum(group1_pubs)/72, 0), round(sum(group2_pubs)/39, 0), round(sum(group3_pubs)/36, 0), round(sum(group4_pubs)/3, 0)]"
   ]
  },
  {
   "cell_type": "code",
   "execution_count": 21,
   "metadata": {},
   "outputs": [
    {
     "data": {
      "text/plain": [
       "[3.0, 5.0, 4.0, 1.0]"
      ]
     },
     "execution_count": 21,
     "metadata": {},
     "output_type": "execute_result"
    }
   ],
   "source": [
    "no_pubs"
   ]
  },
  {
   "cell_type": "code",
   "execution_count": 22,
   "metadata": {},
   "outputs": [
    {
     "data": {
      "image/png": "[encoded data removed]",
      "text/plain": [
       "<matplotlib.figure.Figure at 0x10ef8ff98>"
      ]
     },
     "metadata": {},
     "output_type": "display_data"
    }
   ],
   "source": [
    "plt.pie(no_pubs, labels = groups_pubs, shadow = True, autopct = '%1.1f%%')\n",
    "plt.title('Number of Average Publications\\nby each person in age group')\n",
    "plt.savefig('No_pub by A_group.png')\n",
    "plt.show()"
   ]
  },
  {
   "cell_type": "code",
   "execution_count": 23,
   "metadata": {},
   "outputs": [],
   "source": [
    "dataset_act = pd.read_excel('Ruchi 150.xlsx', sheet_name = 'Activities')"
   ]
  },
  {
   "cell_type": "code",
   "execution_count": 24,
   "metadata": {},
   "outputs": [
    {
     "data": {
      "text/html": [
       "<div>\n",
       "<style scoped>\n",
       "    .dataframe tbody tr th:only-of-type {\n",
       "        vertical-align: middle;\n",
       "    }\n",
       "\n",
       "    .dataframe tbody tr th {\n",
       "        vertical-align: top;\n",
       "    }\n",
       "\n",
       "    .dataframe thead th {\n",
       "        text-align: right;\n",
       "    }\n",
       "</style>\n",
       "<table border=\"1\" class=\"dataframe\">\n",
       "  <thead>\n",
       "    <tr style=\"text-align: right;\">\n",
       "      <th></th>\n",
       "      <th>Gender</th>\n",
       "      <th>Age</th>\n",
       "      <th>Education</th>\n",
       "      <th>FDP.A</th>\n",
       "      <th>FDP.C</th>\n",
       "      <th>Conf.A.N</th>\n",
       "      <th>Conf.A.I</th>\n",
       "      <th>Conf.C.N</th>\n",
       "      <th>Conf.C.I</th>\n",
       "      <th>MDP.A</th>\n",
       "      <th>MDP.C</th>\n",
       "      <th>SDP.A</th>\n",
       "      <th>SDP.C</th>\n",
       "      <th>Total Participated Activities</th>\n",
       "      <th>Conducted Activities</th>\n",
       "      <th>Attended Activities</th>\n",
       "    </tr>\n",
       "  </thead>\n",
       "  <tbody>\n",
       "    <tr>\n",
       "      <th>0</th>\n",
       "      <td>Male</td>\n",
       "      <td>Group 2</td>\n",
       "      <td>Degree</td>\n",
       "      <td>0</td>\n",
       "      <td>0</td>\n",
       "      <td>0</td>\n",
       "      <td>0</td>\n",
       "      <td>2</td>\n",
       "      <td>0</td>\n",
       "      <td>0</td>\n",
       "      <td>0</td>\n",
       "      <td>0</td>\n",
       "      <td>3</td>\n",
       "      <td>5</td>\n",
       "      <td>5</td>\n",
       "      <td>0</td>\n",
       "    </tr>\n",
       "    <tr>\n",
       "      <th>1</th>\n",
       "      <td>Female</td>\n",
       "      <td>Group 3</td>\n",
       "      <td>Ph.D</td>\n",
       "      <td>5</td>\n",
       "      <td>3</td>\n",
       "      <td>13</td>\n",
       "      <td>5</td>\n",
       "      <td>1</td>\n",
       "      <td>0</td>\n",
       "      <td>0</td>\n",
       "      <td>0</td>\n",
       "      <td>0</td>\n",
       "      <td>3</td>\n",
       "      <td>30</td>\n",
       "      <td>7</td>\n",
       "      <td>23</td>\n",
       "    </tr>\n",
       "    <tr>\n",
       "      <th>2</th>\n",
       "      <td>Male</td>\n",
       "      <td>Group 2</td>\n",
       "      <td>PG</td>\n",
       "      <td>0</td>\n",
       "      <td>0</td>\n",
       "      <td>0</td>\n",
       "      <td>0</td>\n",
       "      <td>2</td>\n",
       "      <td>0</td>\n",
       "      <td>0</td>\n",
       "      <td>0</td>\n",
       "      <td>0</td>\n",
       "      <td>3</td>\n",
       "      <td>5</td>\n",
       "      <td>5</td>\n",
       "      <td>0</td>\n",
       "    </tr>\n",
       "    <tr>\n",
       "      <th>3</th>\n",
       "      <td>Male</td>\n",
       "      <td>Group 1</td>\n",
       "      <td>UGC-NET9</td>\n",
       "      <td>0</td>\n",
       "      <td>0</td>\n",
       "      <td>2</td>\n",
       "      <td>0</td>\n",
       "      <td>2</td>\n",
       "      <td>0</td>\n",
       "      <td>1</td>\n",
       "      <td>0</td>\n",
       "      <td>0</td>\n",
       "      <td>0</td>\n",
       "      <td>5</td>\n",
       "      <td>2</td>\n",
       "      <td>3</td>\n",
       "    </tr>\n",
       "    <tr>\n",
       "      <th>4</th>\n",
       "      <td>Male</td>\n",
       "      <td>Group 3</td>\n",
       "      <td>Ph.D</td>\n",
       "      <td>0</td>\n",
       "      <td>0</td>\n",
       "      <td>4</td>\n",
       "      <td>3</td>\n",
       "      <td>0</td>\n",
       "      <td>0</td>\n",
       "      <td>0</td>\n",
       "      <td>0</td>\n",
       "      <td>0</td>\n",
       "      <td>0</td>\n",
       "      <td>7</td>\n",
       "      <td>0</td>\n",
       "      <td>7</td>\n",
       "    </tr>\n",
       "  </tbody>\n",
       "</table>\n",
       "</div>"
      ],
      "text/plain": [
       "   Gender      Age Education  FDP.A  FDP.C  Conf.A.N  Conf.A.I  Conf.C.N  \\\n",
       "0    Male  Group 2    Degree      0      0         0         0         2   \n",
       "1  Female  Group 3      Ph.D      5      3        13         5         1   \n",
       "2    Male  Group 2        PG      0      0         0         0         2   \n",
       "3    Male  Group 1  UGC-NET9      0      0         2         0         2   \n",
       "4    Male  Group 3      Ph.D      0      0         4         3         0   \n",
       "\n",
       "   Conf.C.I  MDP.A  MDP.C  SDP.A  SDP.C  Total Participated Activities  \\\n",
       "0         0      0      0      0      3                              5   \n",
       "1         0      0      0      0      3                             30   \n",
       "2         0      0      0      0      3                              5   \n",
       "3         0      1      0      0      0                              5   \n",
       "4         0      0      0      0      0                              7   \n",
       "\n",
       "   Conducted Activities  Attended Activities  \n",
       "0                     5                    0  \n",
       "1                     7                   23  \n",
       "2                     5                    0  \n",
       "3                     2                    3  \n",
       "4                     0                    7  "
      ]
     },
     "execution_count": 24,
     "metadata": {},
     "output_type": "execute_result"
    }
   ],
   "source": [
    "dataset_act.head()"
   ]
  },
  {
   "cell_type": "code",
   "execution_count": 26,
   "metadata": {},
   "outputs": [],
   "source": [
    "group1_tot_act = [dataset_act.iloc[i, 13] for i in range(len(dataset_act)) if dataset_act.iloc[i, 1] == 'Group 1']\n",
    "group2_tot_act = [dataset_act.iloc[i, 13] for i in range(len(dataset_act)) if dataset_act.iloc[i, 1] == 'Group 2']\n",
    "group3_tot_act = [dataset_act.iloc[i, 13] for i in range(len(dataset_act)) if dataset_act.iloc[i, 1] == 'Group 3']\n",
    "group4_tot_act = [dataset_act.iloc[i, 13] for i in range(len(dataset_act)) if dataset_act.iloc[i, 1] == 'Group 4']"
   ]
  },
  {
   "cell_type": "code",
   "execution_count": 29,
   "metadata": {},
   "outputs": [
    {
     "name": "stdout",
     "output_type": "stream",
     "text": [
      "6.0\n",
      "8.0\n",
      "7.0\n",
      "5.0\n"
     ]
    }
   ],
   "source": [
    "print(round(sum(group1_tot_act)/72, 0))\n",
    "print(round(sum(group2_tot_act)/39, 0))\n",
    "print(round(sum(group3_tot_act)/36, 0))\n",
    "print(round(sum(group4_tot_act)/3, 0))"
   ]
  },
  {
   "cell_type": "code",
   "execution_count": 31,
   "metadata": {},
   "outputs": [],
   "source": [
    "groups_tot_act = ['Group-1: 6', 'Group-2: 8', 'Group-3: 7', 'Group-4: 5']\n",
    "no_tot_act = [round(sum(group1_tot_act)/72, 0), round(sum(group2_tot_act)/39, 0), round(sum(group3_tot_act)/36, 0), round(sum(group4_tot_act)/3, 0)]"
   ]
  },
  {
   "cell_type": "code",
   "execution_count": 33,
   "metadata": {},
   "outputs": [
    {
     "data": {
      "image/png": "[encoded data removed]",
      "text/plain": [
       "<matplotlib.figure.Figure at 0x10fe60550>"
      ]
     },
     "metadata": {},
     "output_type": "display_data"
    }
   ],
   "source": [
    "plt.pie(no_pubs, labels = groups_pubs, shadow = True, autopct = '%1.1f%%', colors = ['r', '#4d94ff', 'g', 'c'])\n",
    "plt.title('Number of Average Participated Activities\\nby each person in age group')\n",
    "plt.savefig('tot_act_AG.png')\n",
    "plt.show()"
   ]
  },
  {
   "cell_type": "code",
   "execution_count": 34,
   "metadata": {},
   "outputs": [],
   "source": [
    "group1_tot_C_act = [dataset_act.iloc[i, 14] for i in range(len(dataset_act)) if dataset_act.iloc[i, 1] == 'Group 1']\n",
    "group2_tot_C_act = [dataset_act.iloc[i, 14] for i in range(len(dataset_act)) if dataset_act.iloc[i, 1] == 'Group 2']\n",
    "group3_tot_C_act = [dataset_act.iloc[i, 14] for i in range(len(dataset_act)) if dataset_act.iloc[i, 1] == 'Group 3']\n",
    "group4_tot_C_act = [dataset_act.iloc[i, 14] for i in range(len(dataset_act)) if dataset_act.iloc[i, 1] == 'Group 4']"
   ]
  },
  {
   "cell_type": "code",
   "execution_count": 35,
   "metadata": {},
   "outputs": [
    {
     "name": "stdout",
     "output_type": "stream",
     "text": [
      "1.0\n",
      "2.0\n",
      "1.0\n",
      "0.0\n"
     ]
    }
   ],
   "source": [
    "print(round(sum(group1_tot_C_act)/72, 0))\n",
    "print(round(sum(group2_tot_C_act)/39, 0))\n",
    "print(round(sum(group3_tot_C_act)/36, 0))\n",
    "print(round(sum(group4_tot_C_act)/3, 0))"
   ]
  },
  {
   "cell_type": "code",
   "execution_count": 36,
   "metadata": {},
   "outputs": [
    {
     "data": {
      "text/plain": [
       "[0, 0, 0]"
      ]
     },
     "execution_count": 36,
     "metadata": {},
     "output_type": "execute_result"
    }
   ],
   "source": [
    "group4_tot_C_act"
   ]
  },
  {
   "cell_type": "code",
   "execution_count": 37,
   "metadata": {},
   "outputs": [],
   "source": [
    "groups_tot_C_act = ['Group-1: 1', 'Group-2: 2', 'Group-3: 1', 'Group-4: 0']\n",
    "no_tot_C_act = [round(sum(group1_tot_C_act)/72, 0), round(sum(group2_tot_C_act)/39, 0), round(sum(group3_tot_C_act)/36, 0), round(sum(group4_tot_C_act)/3, 0)]"
   ]
  },
  {
   "cell_type": "code",
   "execution_count": 38,
   "metadata": {},
   "outputs": [
    {
     "data": {
      "image/png": "[encoded data removed]",
      "text/plain": [
       "<matplotlib.figure.Figure at 0x10fe64780>"
      ]
     },
     "metadata": {},
     "output_type": "display_data"
    }
   ],
   "source": [
    "plt.pie(no_tot_C_act, labels = groups_tot_C_act, colors = ['#e7ea48', '#3adeff', '#35ffc5', 'c'], shadow = True, autopct = '%1.1f%%')\n",
    "plt.title('Number of average conducted activities\\nby each person in each age group')\n",
    "plt.savefig('tot_C_act_AG.png')\n",
    "plt.show()"
   ]
  },
  {
   "cell_type": "code",
   "execution_count": 39,
   "metadata": {},
   "outputs": [],
   "source": [
    "group1_tot_A_act = [dataset_act.iloc[i, 15] for i in range(len(dataset_act)) if dataset_act.iloc[i, 1] == 'Group 1']\n",
    "group2_tot_A_act = [dataset_act.iloc[i, 15] for i in range(len(dataset_act)) if dataset_act.iloc[i, 1] == 'Group 2']\n",
    "group3_tot_A_act = [dataset_act.iloc[i, 15] for i in range(len(dataset_act)) if dataset_act.iloc[i, 1] == 'Group 3']\n",
    "group4_tot_A_act = [dataset_act.iloc[i, 15] for i in range(len(dataset_act)) if dataset_act.iloc[i, 1] == 'Group 4']"
   ]
  },
  {
   "cell_type": "code",
   "execution_count": 41,
   "metadata": {},
   "outputs": [
    {
     "name": "stdout",
     "output_type": "stream",
     "text": [
      "5.0\n",
      "7.0\n",
      "6.0\n",
      "5.0\n"
     ]
    }
   ],
   "source": [
    "print(round(sum(group1_tot_A_act)/72, 0))\n",
    "print(round(sum(group2_tot_A_act)/39, 0))\n",
    "print(round(sum(group3_tot_A_act)/36, 0))\n",
    "print(round(sum(group4_tot_A_act)/3, 0))"
   ]
  },
  {
   "cell_type": "code",
   "execution_count": 42,
   "metadata": {},
   "outputs": [],
   "source": [
    "groups_tot_A_act = ['Group-1: 5', 'Group-2: 7', 'Group-3: 6', 'Group-4: 5']\n",
    "no_tot_A_act = [round(sum(group1_tot_A_act)/72, 0), round(sum(group2_tot_A_act)/39, 0), round(sum(group3_tot_A_act)/36, 0), round(sum(group4_tot_A_act)/3, 0)]"
   ]
  },
  {
   "cell_type": "code",
   "execution_count": 45,
   "metadata": {},
   "outputs": [
    {
     "data": {
      "image/png": "[encoded data removed]",
      "text/plain": [
       "<matplotlib.figure.Figure at 0x10f7f5048>"
      ]
     },
     "metadata": {},
     "output_type": "display_data"
    }
   ],
   "source": [
    "plt.pie(no_tot_A_act, labels = groups_tot_A_act, colors = ['#ed4cff', '#ff8b5e', '#2add66', 'c'], shadow = True, autopct = '%1.1f%%')\n",
    "plt.title('Number of average attended activities\\nby each person in each age group')\n",
    "plt.savefig('tot_A_act_AG.pdf')\n",
    "plt.show()"
   ]
  },
  {
   "cell_type": "code",
   "execution_count": null,
   "metadata": {},
   "outputs": [],
   "source": []
  }
 ],
 "metadata": {
  "kernelspec": {
   "display_name": "Python 3",
   "language": "python",
   "name": "python3"
  },
  "language_info": {
   "codemirror_mode": {
    "name": "ipython",
    "version": 3
   },
   "file_extension": ".py",
   "mimetype": "text/x-python",
   "name": "python",
   "nbconvert_exporter": "python",
   "pygments_lexer": "ipython3",
   "version": "3.6.4"
  }
 },
 "nbformat": 4,
 "nbformat_minor": 2
}
