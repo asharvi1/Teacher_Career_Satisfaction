{
 "cells": [
  {
   "cell_type": "code",
   "execution_count": 1,
   "metadata": {},
   "outputs": [
    {
     "name": "stderr",
     "output_type": "stream",
     "text": [
      "/anaconda3/lib/python3.6/importlib/_bootstrap.py:219: RuntimeWarning: numpy.dtype size changed, may indicate binary incompatibility. Expected 96, got 88\n",
      "  return f(*args, **kwds)\n"
     ]
    }
   ],
   "source": [
    "import pandas as pd\n",
    "import matplotlib.pyplot as plt"
   ]
  },
  {
   "cell_type": "code",
   "execution_count": 2,
   "metadata": {},
   "outputs": [],
   "source": [
    "dataset = pd.read_excel('Ruchi 150.xlsx', sheet_name = 'Satisfaction')"
   ]
  },
  {
   "cell_type": "code",
   "execution_count": 3,
   "metadata": {},
   "outputs": [
    {
     "data": {
      "text/html": [
       "<div>\n",
       "<style scoped>\n",
       "    .dataframe tbody tr th:only-of-type {\n",
       "        vertical-align: middle;\n",
       "    }\n",
       "\n",
       "    .dataframe tbody tr th {\n",
       "        vertical-align: top;\n",
       "    }\n",
       "\n",
       "    .dataframe thead th {\n",
       "        text-align: right;\n",
       "    }\n",
       "</style>\n",
       "<table border=\"1\" class=\"dataframe\">\n",
       "  <thead>\n",
       "    <tr style=\"text-align: right;\">\n",
       "      <th></th>\n",
       "      <th>Gender</th>\n",
       "      <th>Age</th>\n",
       "      <th>Education</th>\n",
       "      <th>S.1</th>\n",
       "      <th>S.2</th>\n",
       "      <th>S.3</th>\n",
       "      <th>S.4</th>\n",
       "      <th>S.5</th>\n",
       "      <th>S.6</th>\n",
       "      <th>S.7</th>\n",
       "      <th>...</th>\n",
       "      <th>S.26</th>\n",
       "      <th>S.27</th>\n",
       "      <th>S.28</th>\n",
       "      <th>S.29</th>\n",
       "      <th>S.30</th>\n",
       "      <th>S.31</th>\n",
       "      <th>S.32</th>\n",
       "      <th>Tot Points</th>\n",
       "      <th>Flag</th>\n",
       "      <th>Formula</th>\n",
       "    </tr>\n",
       "  </thead>\n",
       "  <tbody>\n",
       "    <tr>\n",
       "      <th>0</th>\n",
       "      <td>Male</td>\n",
       "      <td>Group 2</td>\n",
       "      <td>Degree</td>\n",
       "      <td>1</td>\n",
       "      <td>1</td>\n",
       "      <td>1</td>\n",
       "      <td>1</td>\n",
       "      <td>1</td>\n",
       "      <td>1</td>\n",
       "      <td>2</td>\n",
       "      <td>...</td>\n",
       "      <td>1</td>\n",
       "      <td>2</td>\n",
       "      <td>1</td>\n",
       "      <td>2</td>\n",
       "      <td>1</td>\n",
       "      <td>1</td>\n",
       "      <td>1</td>\n",
       "      <td>54</td>\n",
       "      <td>Strongly Agree</td>\n",
       "      <td>Strongly Agree</td>\n",
       "    </tr>\n",
       "    <tr>\n",
       "      <th>1</th>\n",
       "      <td>Female</td>\n",
       "      <td>Group 3</td>\n",
       "      <td>Ph.D</td>\n",
       "      <td>1</td>\n",
       "      <td>2</td>\n",
       "      <td>2</td>\n",
       "      <td>2</td>\n",
       "      <td>2</td>\n",
       "      <td>1</td>\n",
       "      <td>4</td>\n",
       "      <td>...</td>\n",
       "      <td>2</td>\n",
       "      <td>4</td>\n",
       "      <td>1</td>\n",
       "      <td>3</td>\n",
       "      <td>2</td>\n",
       "      <td>2</td>\n",
       "      <td>2</td>\n",
       "      <td>74</td>\n",
       "      <td>Agree</td>\n",
       "      <td>Agree</td>\n",
       "    </tr>\n",
       "    <tr>\n",
       "      <th>2</th>\n",
       "      <td>Male</td>\n",
       "      <td>Group 2</td>\n",
       "      <td>PG</td>\n",
       "      <td>1</td>\n",
       "      <td>1</td>\n",
       "      <td>1</td>\n",
       "      <td>1</td>\n",
       "      <td>1</td>\n",
       "      <td>1</td>\n",
       "      <td>1</td>\n",
       "      <td>...</td>\n",
       "      <td>1</td>\n",
       "      <td>2</td>\n",
       "      <td>1</td>\n",
       "      <td>2</td>\n",
       "      <td>1</td>\n",
       "      <td>1</td>\n",
       "      <td>1</td>\n",
       "      <td>51</td>\n",
       "      <td>Strongly Agree</td>\n",
       "      <td>Strongly Agree</td>\n",
       "    </tr>\n",
       "    <tr>\n",
       "      <th>3</th>\n",
       "      <td>Male</td>\n",
       "      <td>Group 1</td>\n",
       "      <td>UGC-NET9</td>\n",
       "      <td>2</td>\n",
       "      <td>1</td>\n",
       "      <td>2</td>\n",
       "      <td>2</td>\n",
       "      <td>2</td>\n",
       "      <td>2</td>\n",
       "      <td>3</td>\n",
       "      <td>...</td>\n",
       "      <td>2</td>\n",
       "      <td>3</td>\n",
       "      <td>3</td>\n",
       "      <td>3</td>\n",
       "      <td>2</td>\n",
       "      <td>2</td>\n",
       "      <td>3</td>\n",
       "      <td>91</td>\n",
       "      <td>Can't Say</td>\n",
       "      <td>Can't Say</td>\n",
       "    </tr>\n",
       "    <tr>\n",
       "      <th>4</th>\n",
       "      <td>Male</td>\n",
       "      <td>Group 3</td>\n",
       "      <td>Ph.D</td>\n",
       "      <td>1</td>\n",
       "      <td>1</td>\n",
       "      <td>1</td>\n",
       "      <td>1</td>\n",
       "      <td>2</td>\n",
       "      <td>3</td>\n",
       "      <td>2</td>\n",
       "      <td>...</td>\n",
       "      <td>2</td>\n",
       "      <td>4</td>\n",
       "      <td>1</td>\n",
       "      <td>1</td>\n",
       "      <td>1</td>\n",
       "      <td>1</td>\n",
       "      <td>1</td>\n",
       "      <td>59</td>\n",
       "      <td>Strongly Agree</td>\n",
       "      <td>Agree</td>\n",
       "    </tr>\n",
       "  </tbody>\n",
       "</table>\n",
       "<p>5 rows × 38 columns</p>\n",
       "</div>"
      ],
      "text/plain": [
       "   Gender      Age Education  S.1  S.2  S.3  S.4  S.5  S.6  S.7  \\\n",
       "0    Male  Group 2    Degree    1    1    1    1    1    1    2   \n",
       "1  Female  Group 3      Ph.D    1    2    2    2    2    1    4   \n",
       "2    Male  Group 2        PG    1    1    1    1    1    1    1   \n",
       "3    Male  Group 1  UGC-NET9    2    1    2    2    2    2    3   \n",
       "4    Male  Group 3      Ph.D    1    1    1    1    2    3    2   \n",
       "\n",
       "        ...        S.26  S.27  S.28  S.29  S.30  S.31  S.32  Tot Points  \\\n",
       "0       ...           1     2     1     2     1     1     1          54   \n",
       "1       ...           2     4     1     3     2     2     2          74   \n",
       "2       ...           1     2     1     2     1     1     1          51   \n",
       "3       ...           2     3     3     3     2     2     3          91   \n",
       "4       ...           2     4     1     1     1     1     1          59   \n",
       "\n",
       "             Flag         Formula  \n",
       "0  Strongly Agree  Strongly Agree  \n",
       "1           Agree           Agree  \n",
       "2  Strongly Agree  Strongly Agree  \n",
       "3       Can't Say       Can't Say  \n",
       "4  Strongly Agree           Agree  \n",
       "\n",
       "[5 rows x 38 columns]"
      ]
     },
     "execution_count": 3,
     "metadata": {},
     "output_type": "execute_result"
    }
   ],
   "source": [
    "dataset.head()"
   ]
  },
  {
   "cell_type": "code",
   "execution_count": 4,
   "metadata": {},
   "outputs": [
    {
     "data": {
      "text/plain": [
       "(150, 38)"
      ]
     },
     "execution_count": 4,
     "metadata": {},
     "output_type": "execute_result"
    }
   ],
   "source": [
    "dataset.shape"
   ]
  },
  {
   "cell_type": "code",
   "execution_count": 7,
   "metadata": {},
   "outputs": [
    {
     "data": {
      "text/plain": [
       "array(['Strongly Agree', 'Agree', 'Strongly Agree', \"Can't Say\",\n",
       "       'Strongly Agree', 'Agree', 'Agree', 'Strongly Agree', 'Agree',\n",
       "       'Agree', 'Strongly Agree', 'Strongly Agree', 'Agree', 'Agree',\n",
       "       \"Can't Say\", \"Can't Say\", 'Agree', \"Can't Say\", 'Agree', 'Agree',\n",
       "       'Agree', 'Agree', 'Agree', 'Agree', 'Agree', 'Agree', 'Agree',\n",
       "       'Agree', 'Strongly Agree', 'Agree', \"Can't Say\", 'Agree',\n",
       "       \"Can't Say\", 'Agree', 'Agree', 'Agree', 'Agree', 'Agree', 'Agree',\n",
       "       'Agree', 'Agree', 'Agree', 'Agree', 'Agree', 'Agree', 'Agree',\n",
       "       \"Can't Say\", 'Agree', 'Agree', 'Agree', \"Can't Say\", \"Can't Say\",\n",
       "       'Disagree', 'Agree', \"Can't Say\", 'Agree', \"Can't Say\",\n",
       "       \"Can't Say\", \"Can't Say\", 'Agree', 'Agree', \"Can't Say\",\n",
       "       'Strongly Agree', 'Agree', 'Agree', 'Agree', 'Agree', \"Can't Say\",\n",
       "       \"Can't Say\", 'Agree', \"Can't Say\", 'Agree', 'Strongly Disagree',\n",
       "       'Disagree', \"Can't Say\", \"Can't Say\", 'Agree', \"Can't Say\",\n",
       "       'Agree', 'Agree', 'Agree', 'Strongly Agree', 'Agree', 'Agree',\n",
       "       'Agree', \"Can't Say\", 'Agree', 'Strongly Agree', 'Strongly Agree',\n",
       "       \"Can't Say\", 'Strongly Agree', 'Agree', 'Agree', 'Disagree',\n",
       "       'Agree', 'Agree', 'Agree', 'Agree', 'Agree', 'Agree', 'Agree',\n",
       "       'Agree', 'Strongly Agree', 'Agree', 'Agree', 'Agree', 'Agree',\n",
       "       \"Can't Say\", \"Can't Say\", 'Agree', 'Agree', 'Agree', 'Agree',\n",
       "       'Agree', 'Agree', \"Can't Say\", 'Agree', 'Strongly Disagree',\n",
       "       'Disagree', \"Can't Say\", \"Can't Say\", 'Agree', \"Can't Say\",\n",
       "       'Agree', 'Agree', 'Agree', 'Agree', 'Agree', 'Agree',\n",
       "       'Strongly Agree', 'Agree', 'Agree', 'Agree', \"Can't Say\", 'Agree',\n",
       "       'Strongly Agree', \"Can't Say\", 'Agree', 'Agree', 'Agree', 'Agree',\n",
       "       \"Can't Say\", \"Can't Say\", 'Agree', \"Can't Say\", 'Agree', 'Agree',\n",
       "       'Agree', 'Agree', 'Agree'], dtype=object)"
      ]
     },
     "execution_count": 7,
     "metadata": {},
     "output_type": "execute_result"
    }
   ],
   "source": [
    "dataset.iloc[:, 36].values"
   ]
  },
  {
   "cell_type": "code",
   "execution_count": 10,
   "metadata": {},
   "outputs": [],
   "source": [
    "ratings = [sum([1 for i in range(len(dataset)) if dataset.iloc[i, 36] == 'Strongly Agree']), \n",
    "          sum([1 for i in range(len(dataset)) if dataset.iloc[i, 36] == 'Agree']), \n",
    "          sum([1 for i in range(len(dataset)) if dataset.iloc[i, 36] == \"Can't Say\"]), \n",
    "          sum([1 for i in range(len(dataset)) if dataset.iloc[i, 36] == 'Disagree']), \n",
    "          sum([1 for i in range(len(dataset)) if dataset.iloc[i, 36] == 'Strongly Disagree'])]"
   ]
  },
  {
   "cell_type": "code",
   "execution_count": 11,
   "metadata": {},
   "outputs": [
    {
     "data": {
      "text/plain": [
       "[15, 96, 33, 4, 2]"
      ]
     },
     "execution_count": 11,
     "metadata": {},
     "output_type": "execute_result"
    }
   ],
   "source": [
    "ratings"
   ]
  },
  {
   "cell_type": "code",
   "execution_count": 12,
   "metadata": {},
   "outputs": [],
   "source": [
    "ratings_labels = ['Strongly Agree', 'Agree', \"Can't Say\", 'Disagree', 'Agree']"
   ]
  },
  {
   "cell_type": "code",
   "execution_count": 13,
   "metadata": {},
   "outputs": [
    {
     "data": {
      "image/png": "[encoded data removed]",
      "text/plain": [
       "<matplotlib.figure.Figure at 0x115563b70>"
      ]
     },
     "metadata": {},
     "output_type": "display_data"
    }
   ],
   "source": [
    "plt.bar(range(len(ratings_labels)) , ratings,color = '#415dc1')\n",
    "plt.xticks(rotation = 10)\n",
    "plt.xticks(range(len(ratings_labels)), ratings_labels)\n",
    "plt.title('Total Statements Rating')\n",
    "plt.savefig('Stat_Rat.png')\n",
    "plt.show()"
   ]
  },
  {
   "cell_type": "code",
   "execution_count": null,
   "metadata": {},
   "outputs": [],
   "source": []
  }
 ],
 "metadata": {
  "kernelspec": {
   "display_name": "Python 3",
   "language": "python",
   "name": "python3"
  },
  "language_info": {
   "codemirror_mode": {
    "name": "ipython",
    "version": 3
   },
   "file_extension": ".py",
   "mimetype": "text/x-python",
   "name": "python",
   "nbconvert_exporter": "python",
   "pygments_lexer": "ipython3",
   "version": "3.6.4"
  }
 },
 "nbformat": 4,
 "nbformat_minor": 2
}
