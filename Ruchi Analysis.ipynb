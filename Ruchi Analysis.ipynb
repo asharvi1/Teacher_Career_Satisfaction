{
 "cells": [
  {
   "cell_type": "code",
   "execution_count": 30,
   "metadata": {},
   "outputs": [],
   "source": [
    "import pandas as pd\n",
    "import matplotlib.pyplot as plt\n",
    "import matplotlib"
   ]
  },
  {
   "cell_type": "code",
   "execution_count": 2,
   "metadata": {},
   "outputs": [],
   "source": [
    "dataset = pd.read_excel('Ruchi 150.xlsx', sheet_name = 'Ruchi 150 Update')"
   ]
  },
  {
   "cell_type": "code",
   "execution_count": 3,
   "metadata": {},
   "outputs": [
    {
     "data": {
      "text/html": [
       "<div>\n",
       "<style scoped>\n",
       "    .dataframe tbody tr th:only-of-type {\n",
       "        vertical-align: middle;\n",
       "    }\n",
       "\n",
       "    .dataframe tbody tr th {\n",
       "        vertical-align: top;\n",
       "    }\n",
       "\n",
       "    .dataframe thead th {\n",
       "        text-align: right;\n",
       "    }\n",
       "</style>\n",
       "<table border=\"1\" class=\"dataframe\">\n",
       "  <thead>\n",
       "    <tr style=\"text-align: right;\">\n",
       "      <th></th>\n",
       "      <th>S no</th>\n",
       "      <th>Gender</th>\n",
       "      <th>Age</th>\n",
       "      <th>Education</th>\n",
       "      <th>Experience</th>\n",
       "      <th>Income</th>\n",
       "      <th>Desig</th>\n",
       "      <th>Workload</th>\n",
       "      <th>Research</th>\n",
       "      <th>ITM</th>\n",
       "      <th>...</th>\n",
       "      <th>S.23</th>\n",
       "      <th>S.24</th>\n",
       "      <th>S.25</th>\n",
       "      <th>S.26</th>\n",
       "      <th>S.27</th>\n",
       "      <th>S.28</th>\n",
       "      <th>S.29</th>\n",
       "      <th>S.30</th>\n",
       "      <th>S.31</th>\n",
       "      <th>S.32</th>\n",
       "    </tr>\n",
       "  </thead>\n",
       "  <tbody>\n",
       "    <tr>\n",
       "      <th>0</th>\n",
       "      <td>1</td>\n",
       "      <td>Male</td>\n",
       "      <td>Group 2</td>\n",
       "      <td>Degree</td>\n",
       "      <td>Exp-2</td>\n",
       "      <td>INC-2</td>\n",
       "      <td>Asst.Prof</td>\n",
       "      <td>18</td>\n",
       "      <td>4</td>\n",
       "      <td>2</td>\n",
       "      <td>...</td>\n",
       "      <td>2.0</td>\n",
       "      <td>2</td>\n",
       "      <td>2</td>\n",
       "      <td>1</td>\n",
       "      <td>2</td>\n",
       "      <td>1</td>\n",
       "      <td>2</td>\n",
       "      <td>1</td>\n",
       "      <td>1</td>\n",
       "      <td>1</td>\n",
       "    </tr>\n",
       "    <tr>\n",
       "      <th>1</th>\n",
       "      <td>2</td>\n",
       "      <td>Female</td>\n",
       "      <td>Group 3</td>\n",
       "      <td>Ph.D</td>\n",
       "      <td>Exp-5</td>\n",
       "      <td>INC-5</td>\n",
       "      <td>Professor</td>\n",
       "      <td>18</td>\n",
       "      <td>1</td>\n",
       "      <td>4</td>\n",
       "      <td>...</td>\n",
       "      <td>1.0</td>\n",
       "      <td>2</td>\n",
       "      <td>4</td>\n",
       "      <td>2</td>\n",
       "      <td>4</td>\n",
       "      <td>1</td>\n",
       "      <td>3</td>\n",
       "      <td>2</td>\n",
       "      <td>2</td>\n",
       "      <td>2</td>\n",
       "    </tr>\n",
       "    <tr>\n",
       "      <th>2</th>\n",
       "      <td>3</td>\n",
       "      <td>Male</td>\n",
       "      <td>Group 2</td>\n",
       "      <td>PG</td>\n",
       "      <td>Exp-3</td>\n",
       "      <td>INC-3</td>\n",
       "      <td>Asst.Prof</td>\n",
       "      <td>15</td>\n",
       "      <td>4</td>\n",
       "      <td>2</td>\n",
       "      <td>...</td>\n",
       "      <td>3.0</td>\n",
       "      <td>2</td>\n",
       "      <td>2</td>\n",
       "      <td>1</td>\n",
       "      <td>2</td>\n",
       "      <td>1</td>\n",
       "      <td>2</td>\n",
       "      <td>1</td>\n",
       "      <td>1</td>\n",
       "      <td>1</td>\n",
       "    </tr>\n",
       "    <tr>\n",
       "      <th>3</th>\n",
       "      <td>4</td>\n",
       "      <td>Male</td>\n",
       "      <td>Group 1</td>\n",
       "      <td>UGC-NET9</td>\n",
       "      <td>Exp-3</td>\n",
       "      <td>INC-3</td>\n",
       "      <td>Asst.Prof</td>\n",
       "      <td>18</td>\n",
       "      <td>2</td>\n",
       "      <td>1</td>\n",
       "      <td>...</td>\n",
       "      <td>3.0</td>\n",
       "      <td>2</td>\n",
       "      <td>4</td>\n",
       "      <td>2</td>\n",
       "      <td>3</td>\n",
       "      <td>3</td>\n",
       "      <td>3</td>\n",
       "      <td>2</td>\n",
       "      <td>2</td>\n",
       "      <td>3</td>\n",
       "    </tr>\n",
       "    <tr>\n",
       "      <th>4</th>\n",
       "      <td>5</td>\n",
       "      <td>Male</td>\n",
       "      <td>Group 3</td>\n",
       "      <td>Ph.D</td>\n",
       "      <td>Exp-2</td>\n",
       "      <td>INC-2</td>\n",
       "      <td>Asst.Prof</td>\n",
       "      <td>18</td>\n",
       "      <td>3</td>\n",
       "      <td>1</td>\n",
       "      <td>...</td>\n",
       "      <td>2.0</td>\n",
       "      <td>2</td>\n",
       "      <td>2</td>\n",
       "      <td>2</td>\n",
       "      <td>4</td>\n",
       "      <td>1</td>\n",
       "      <td>1</td>\n",
       "      <td>1</td>\n",
       "      <td>1</td>\n",
       "      <td>1</td>\n",
       "    </tr>\n",
       "  </tbody>\n",
       "</table>\n",
       "<p>5 rows × 77 columns</p>\n",
       "</div>"
      ],
      "text/plain": [
       "   S no  Gender      Age Education Experience Income      Desig  Workload  \\\n",
       "0     1    Male  Group 2    Degree      Exp-2  INC-2  Asst.Prof        18   \n",
       "1     2  Female  Group 3      Ph.D      Exp-5  INC-5  Professor        18   \n",
       "2     3    Male  Group 2        PG      Exp-3  INC-3  Asst.Prof        15   \n",
       "3     4    Male  Group 1  UGC-NET9      Exp-3  INC-3  Asst.Prof        18   \n",
       "4     5    Male  Group 3      Ph.D      Exp-2  INC-2  Asst.Prof        18   \n",
       "\n",
       "   Research  ITM  ...   S.23  S.24  S.25  S.26  S.27  S.28  S.29  S.30  S.31  \\\n",
       "0         4    2  ...    2.0     2     2     1     2     1     2     1     1   \n",
       "1         1    4  ...    1.0     2     4     2     4     1     3     2     2   \n",
       "2         4    2  ...    3.0     2     2     1     2     1     2     1     1   \n",
       "3         2    1  ...    3.0     2     4     2     3     3     3     2     2   \n",
       "4         3    1  ...    2.0     2     2     2     4     1     1     1     1   \n",
       "\n",
       "   S.32  \n",
       "0     1  \n",
       "1     2  \n",
       "2     1  \n",
       "3     3  \n",
       "4     1  \n",
       "\n",
       "[5 rows x 77 columns]"
      ]
     },
     "execution_count": 3,
     "metadata": {},
     "output_type": "execute_result"
    }
   ],
   "source": [
    "dataset.head()"
   ]
  },
  {
   "cell_type": "code",
   "execution_count": 4,
   "metadata": {},
   "outputs": [],
   "source": [
    "dataset = dataset.iloc[:, 1:8]"
   ]
  },
  {
   "cell_type": "code",
   "execution_count": 5,
   "metadata": {},
   "outputs": [
    {
     "data": {
      "text/html": [
       "<div>\n",
       "<style scoped>\n",
       "    .dataframe tbody tr th:only-of-type {\n",
       "        vertical-align: middle;\n",
       "    }\n",
       "\n",
       "    .dataframe tbody tr th {\n",
       "        vertical-align: top;\n",
       "    }\n",
       "\n",
       "    .dataframe thead th {\n",
       "        text-align: right;\n",
       "    }\n",
       "</style>\n",
       "<table border=\"1\" class=\"dataframe\">\n",
       "  <thead>\n",
       "    <tr style=\"text-align: right;\">\n",
       "      <th></th>\n",
       "      <th>Gender</th>\n",
       "      <th>Age</th>\n",
       "      <th>Education</th>\n",
       "      <th>Experience</th>\n",
       "      <th>Income</th>\n",
       "      <th>Desig</th>\n",
       "      <th>Workload</th>\n",
       "    </tr>\n",
       "  </thead>\n",
       "  <tbody>\n",
       "    <tr>\n",
       "      <th>0</th>\n",
       "      <td>Male</td>\n",
       "      <td>Group 2</td>\n",
       "      <td>Degree</td>\n",
       "      <td>Exp-2</td>\n",
       "      <td>INC-2</td>\n",
       "      <td>Asst.Prof</td>\n",
       "      <td>18</td>\n",
       "    </tr>\n",
       "    <tr>\n",
       "      <th>1</th>\n",
       "      <td>Female</td>\n",
       "      <td>Group 3</td>\n",
       "      <td>Ph.D</td>\n",
       "      <td>Exp-5</td>\n",
       "      <td>INC-5</td>\n",
       "      <td>Professor</td>\n",
       "      <td>18</td>\n",
       "    </tr>\n",
       "    <tr>\n",
       "      <th>2</th>\n",
       "      <td>Male</td>\n",
       "      <td>Group 2</td>\n",
       "      <td>PG</td>\n",
       "      <td>Exp-3</td>\n",
       "      <td>INC-3</td>\n",
       "      <td>Asst.Prof</td>\n",
       "      <td>15</td>\n",
       "    </tr>\n",
       "    <tr>\n",
       "      <th>3</th>\n",
       "      <td>Male</td>\n",
       "      <td>Group 1</td>\n",
       "      <td>UGC-NET9</td>\n",
       "      <td>Exp-3</td>\n",
       "      <td>INC-3</td>\n",
       "      <td>Asst.Prof</td>\n",
       "      <td>18</td>\n",
       "    </tr>\n",
       "    <tr>\n",
       "      <th>4</th>\n",
       "      <td>Male</td>\n",
       "      <td>Group 3</td>\n",
       "      <td>Ph.D</td>\n",
       "      <td>Exp-2</td>\n",
       "      <td>INC-2</td>\n",
       "      <td>Asst.Prof</td>\n",
       "      <td>18</td>\n",
       "    </tr>\n",
       "  </tbody>\n",
       "</table>\n",
       "</div>"
      ],
      "text/plain": [
       "   Gender      Age Education Experience Income      Desig  Workload\n",
       "0    Male  Group 2    Degree      Exp-2  INC-2  Asst.Prof        18\n",
       "1  Female  Group 3      Ph.D      Exp-5  INC-5  Professor        18\n",
       "2    Male  Group 2        PG      Exp-3  INC-3  Asst.Prof        15\n",
       "3    Male  Group 1  UGC-NET9      Exp-3  INC-3  Asst.Prof        18\n",
       "4    Male  Group 3      Ph.D      Exp-2  INC-2  Asst.Prof        18"
      ]
     },
     "execution_count": 5,
     "metadata": {},
     "output_type": "execute_result"
    }
   ],
   "source": [
    "dataset.head()"
   ]
  },
  {
   "cell_type": "code",
   "execution_count": 8,
   "metadata": {},
   "outputs": [],
   "source": [
    "designation = ['Lecturer', 'Assistant Professor', 'Sr. Assitant Professor',\n",
    "               'Associate Professor', 'Sr. Associate Professor', 'Professor']\n",
    "designation_count = [sum(1 for i in range(len(dataset)) if dataset.iloc[i, 5] == 'Lecturer'),\n",
    "                    sum(1 for i in range(len(dataset)) if dataset.iloc[i, 5] == 'Asst.Prof'),\n",
    "                    sum(1 for i in range(len(dataset)) if dataset.iloc[i, 5] == 'Sr.Asst.Prof'),\n",
    "                    sum(1 for i in range(len(dataset)) if dataset.iloc[i, 5] == 'Associate Prof'),\n",
    "                    sum(1 for i in range(len(dataset)) if dataset.iloc[i, 5] == 'Sr. Associate Prof'),\n",
    "                    sum(1 for i in range(len(dataset)) if dataset.iloc[i, 5] == 'Professor')]"
   ]
  },
  {
   "cell_type": "code",
   "execution_count": 9,
   "metadata": {},
   "outputs": [
    {
     "data": {
      "text/plain": [
       "[2, 92, 16, 34, 2, 4]"
      ]
     },
     "execution_count": 9,
     "metadata": {},
     "output_type": "execute_result"
    }
   ],
   "source": [
    "designation_count"
   ]
  },
  {
   "cell_type": "code",
   "execution_count": 10,
   "metadata": {},
   "outputs": [],
   "source": [
    "designation_workload = [sum(dataset.iloc[i, 6] for i in range(len(dataset)) if dataset.iloc[i, 5] == 'Lecturer'),\n",
    "                    sum(dataset.iloc[i, 6] for i in range(len(dataset)) if dataset.iloc[i, 5] == 'Asst.Prof'),\n",
    "                    sum(dataset.iloc[i, 6] for i in range(len(dataset)) if dataset.iloc[i, 5] == 'Sr.Asst.Prof'),\n",
    "                    sum(dataset.iloc[i, 6] for i in range(len(dataset)) if dataset.iloc[i, 5] == 'Associate Prof'),\n",
    "                    sum(dataset.iloc[i, 6] for i in range(len(dataset)) if dataset.iloc[i, 5] == 'Sr. Associate Prof'),\n",
    "                    sum(dataset.iloc[i, 6] for i in range(len(dataset)) if dataset.iloc[i, 5] == 'Professor')]"
   ]
  },
  {
   "cell_type": "code",
   "execution_count": 11,
   "metadata": {},
   "outputs": [
    {
     "data": {
      "text/plain": [
       "[43, 1799, 352, 679, 42, 80]"
      ]
     },
     "execution_count": 11,
     "metadata": {},
     "output_type": "execute_result"
    }
   ],
   "source": [
    "designation_workload"
   ]
  },
  {
   "cell_type": "code",
   "execution_count": 24,
   "metadata": {},
   "outputs": [],
   "source": [
    "designation_avg_workload = [round((designation_workload[i]/designation_count[i])) for i in range(len(designation))]"
   ]
  },
  {
   "cell_type": "code",
   "execution_count": 25,
   "metadata": {},
   "outputs": [
    {
     "data": {
      "text/plain": [
       "[22.0, 20.0, 22.0, 20.0, 21.0, 20.0]"
      ]
     },
     "execution_count": 25,
     "metadata": {},
     "output_type": "execute_result"
    }
   ],
   "source": [
    "designation_avg_workload"
   ]
  },
  {
   "cell_type": "code",
   "execution_count": 39,
   "metadata": {},
   "outputs": [
    {
     "data": {
      "image/png": "[encoded data removed]",
      "text/plain": [
       "<matplotlib.figure.Figure at 0x108877e48>"
      ]
     },
     "metadata": {},
     "output_type": "display_data"
    }
   ],
   "source": [
    "plt.barh(range(len(designation)), designation_avg_workload, color = '#415dc1')\n",
    "plt.yticks(range(len(designation)), designation)\n",
    "plt.xlabel('Workload')\n",
    "plt.title('Designation vs Avg Workload')\n",
    "plt.tight_layout()\n",
    "plt.savefig('desig_wrkld.png')\n",
    "plt.show()"
   ]
  },
  {
   "cell_type": "code",
   "execution_count": null,
   "metadata": {},
   "outputs": [],
   "source": []
  }
 ],
 "metadata": {
  "kernelspec": {
   "display_name": "Python 3",
   "language": "python",
   "name": "python3"
  },
  "language_info": {
   "codemirror_mode": {
    "name": "ipython",
    "version": 3
   },
   "file_extension": ".py",
   "mimetype": "text/x-python",
   "name": "python",
   "nbconvert_exporter": "python",
   "pygments_lexer": "ipython3",
   "version": "3.6.4"
  }
 },
 "nbformat": 4,
 "nbformat_minor": 2
}
